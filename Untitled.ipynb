{
 "cells": [
  {
   "cell_type": "code",
   "execution_count": 1,
   "metadata": {},
   "outputs": [],
   "source": [
    "import pandas as pd\n",
    "import matplotlib.pyplot as plt"
   ]
  },
  {
   "cell_type": "code",
   "execution_count": 2,
   "metadata": {},
   "outputs": [],
   "source": [
    "df = pd.read_csv('./log.txt',sep='\\t',header=None)"
   ]
  },
  {
   "cell_type": "code",
   "execution_count": 3,
   "metadata": {},
   "outputs": [
    {
     "data": {
      "text/plain": [
       "RangeIndex(start=0, stop=179496, step=1)"
      ]
     },
     "execution_count": 3,
     "metadata": {},
     "output_type": "execute_result"
    }
   ],
   "source": [
    "df.columns\n",
    "df.index"
   ]
  },
  {
   "cell_type": "code",
   "execution_count": 4,
   "metadata": {},
   "outputs": [],
   "source": [
    "df.columns=['id', 'api', 'count', 'res_time_sum', 'res_time_min', 'res_time_max', 'res_time_avg', 'interval', 'created_at']"
   ]
  },
  {
   "cell_type": "code",
   "execution_count": 5,
   "metadata": {},
   "outputs": [
    {
     "data": {
      "text/html": [
       "<div>\n",
       "<style scoped>\n",
       "    .dataframe tbody tr th:only-of-type {\n",
       "        vertical-align: middle;\n",
       "    }\n",
       "\n",
       "    .dataframe tbody tr th {\n",
       "        vertical-align: top;\n",
       "    }\n",
       "\n",
       "    .dataframe thead th {\n",
       "        text-align: right;\n",
       "    }\n",
       "</style>\n",
       "<table border=\"1\" class=\"dataframe\">\n",
       "  <thead>\n",
       "    <tr style=\"text-align: right;\">\n",
       "      <th></th>\n",
       "      <th>id</th>\n",
       "      <th>api</th>\n",
       "      <th>count</th>\n",
       "      <th>res_time_sum</th>\n",
       "      <th>res_time_min</th>\n",
       "      <th>res_time_max</th>\n",
       "      <th>res_time_avg</th>\n",
       "      <th>interval</th>\n",
       "      <th>created_at</th>\n",
       "    </tr>\n",
       "  </thead>\n",
       "  <tbody>\n",
       "    <tr>\n",
       "      <th>179494</th>\n",
       "      <td>13438981</td>\n",
       "      <td>/front-api/bill/create</td>\n",
       "      <td>9</td>\n",
       "      <td>1798.28</td>\n",
       "      <td>101.11</td>\n",
       "      <td>433.30</td>\n",
       "      <td>199.0</td>\n",
       "      <td>60</td>\n",
       "      <td>2018-05-30 23:09:21</td>\n",
       "    </tr>\n",
       "    <tr>\n",
       "      <th>179495</th>\n",
       "      <td>13439086</td>\n",
       "      <td>/front-api/bill/create</td>\n",
       "      <td>6</td>\n",
       "      <td>1017.97</td>\n",
       "      <td>74.45</td>\n",
       "      <td>298.97</td>\n",
       "      <td>169.0</td>\n",
       "      <td>60</td>\n",
       "      <td>2018-05-30 23:10:21</td>\n",
       "    </tr>\n",
       "  </tbody>\n",
       "</table>\n",
       "</div>"
      ],
      "text/plain": [
       "              id                     api  count  res_time_sum  res_time_min  \\\n",
       "179494  13438981  /front-api/bill/create      9       1798.28        101.11   \n",
       "179495  13439086  /front-api/bill/create      6       1017.97         74.45   \n",
       "\n",
       "        res_time_max  res_time_avg  interval           created_at  \n",
       "179494        433.30         199.0        60  2018-05-30 23:09:21  \n",
       "179495        298.97         169.0        60  2018-05-30 23:10:21  "
      ]
     },
     "execution_count": 5,
     "metadata": {},
     "output_type": "execute_result"
    }
   ],
   "source": [
    "df.tail(2)"
   ]
  },
  {
   "cell_type": "code",
   "execution_count": 6,
   "metadata": {},
   "outputs": [
    {
     "data": {
      "text/html": [
       "<div>\n",
       "<style scoped>\n",
       "    .dataframe tbody tr th:only-of-type {\n",
       "        vertical-align: middle;\n",
       "    }\n",
       "\n",
       "    .dataframe tbody tr th {\n",
       "        vertical-align: top;\n",
       "    }\n",
       "\n",
       "    .dataframe thead th {\n",
       "        text-align: right;\n",
       "    }\n",
       "</style>\n",
       "<table border=\"1\" class=\"dataframe\">\n",
       "  <thead>\n",
       "    <tr style=\"text-align: right;\">\n",
       "      <th></th>\n",
       "      <th>id</th>\n",
       "      <th>api</th>\n",
       "      <th>count</th>\n",
       "      <th>res_time_sum</th>\n",
       "      <th>res_time_min</th>\n",
       "      <th>res_time_max</th>\n",
       "      <th>res_time_avg</th>\n",
       "      <th>interval</th>\n",
       "      <th>created_at</th>\n",
       "    </tr>\n",
       "  </thead>\n",
       "  <tbody>\n",
       "    <tr>\n",
       "      <th>1557</th>\n",
       "      <td>308449</td>\n",
       "      <td>/front-api/bill/create</td>\n",
       "      <td>8</td>\n",
       "      <td>1358.60</td>\n",
       "      <td>88.26</td>\n",
       "      <td>270.40</td>\n",
       "      <td>169.0</td>\n",
       "      <td>60</td>\n",
       "      <td>2017-11-02 21:04:11</td>\n",
       "    </tr>\n",
       "    <tr>\n",
       "      <th>77757</th>\n",
       "      <td>6015152</td>\n",
       "      <td>/front-api/bill/create</td>\n",
       "      <td>9</td>\n",
       "      <td>1847.56</td>\n",
       "      <td>95.40</td>\n",
       "      <td>508.44</td>\n",
       "      <td>205.0</td>\n",
       "      <td>60</td>\n",
       "      <td>2018-01-30 19:02:49</td>\n",
       "    </tr>\n",
       "    <tr>\n",
       "      <th>28126</th>\n",
       "      <td>2679447</td>\n",
       "      <td>/front-api/bill/create</td>\n",
       "      <td>7</td>\n",
       "      <td>1096.80</td>\n",
       "      <td>72.52</td>\n",
       "      <td>420.62</td>\n",
       "      <td>156.0</td>\n",
       "      <td>60</td>\n",
       "      <td>2017-12-03 18:55:13</td>\n",
       "    </tr>\n",
       "    <tr>\n",
       "      <th>26928</th>\n",
       "      <td>2572612</td>\n",
       "      <td>/front-api/bill/create</td>\n",
       "      <td>9</td>\n",
       "      <td>1498.85</td>\n",
       "      <td>125.17</td>\n",
       "      <td>215.34</td>\n",
       "      <td>166.0</td>\n",
       "      <td>60</td>\n",
       "      <td>2017-12-02 13:24:11</td>\n",
       "    </tr>\n",
       "    <tr>\n",
       "      <th>21969</th>\n",
       "      <td>2118561</td>\n",
       "      <td>/front-api/bill/create</td>\n",
       "      <td>14</td>\n",
       "      <td>2065.77</td>\n",
       "      <td>80.61</td>\n",
       "      <td>264.78</td>\n",
       "      <td>147.0</td>\n",
       "      <td>60</td>\n",
       "      <td>2017-11-26 17:01:59</td>\n",
       "    </tr>\n",
       "  </tbody>\n",
       "</table>\n",
       "</div>"
      ],
      "text/plain": [
       "            id                     api  count  res_time_sum  res_time_min  \\\n",
       "1557    308449  /front-api/bill/create      8       1358.60         88.26   \n",
       "77757  6015152  /front-api/bill/create      9       1847.56         95.40   \n",
       "28126  2679447  /front-api/bill/create      7       1096.80         72.52   \n",
       "26928  2572612  /front-api/bill/create      9       1498.85        125.17   \n",
       "21969  2118561  /front-api/bill/create     14       2065.77         80.61   \n",
       "\n",
       "       res_time_max  res_time_avg  interval           created_at  \n",
       "1557         270.40         169.0        60  2017-11-02 21:04:11  \n",
       "77757        508.44         205.0        60  2018-01-30 19:02:49  \n",
       "28126        420.62         156.0        60  2017-12-03 18:55:13  \n",
       "26928        215.34         166.0        60  2017-12-02 13:24:11  \n",
       "21969        264.78         147.0        60  2017-11-26 17:01:59  "
      ]
     },
     "execution_count": 6,
     "metadata": {},
     "output_type": "execute_result"
    }
   ],
   "source": [
    "df.sample(5)"
   ]
  },
  {
   "cell_type": "code",
   "execution_count": 7,
   "metadata": {},
   "outputs": [
    {
     "data": {
      "text/plain": [
       "id                int64\n",
       "api              object\n",
       "count             int64\n",
       "res_time_sum    float64\n",
       "res_time_min    float64\n",
       "res_time_max    float64\n",
       "res_time_avg    float64\n",
       "interval          int64\n",
       "created_at       object\n",
       "dtype: object"
      ]
     },
     "execution_count": 7,
     "metadata": {},
     "output_type": "execute_result"
    }
   ],
   "source": [
    "df.dtypes"
   ]
  },
  {
   "cell_type": "code",
   "execution_count": 8,
   "metadata": {},
   "outputs": [
    {
     "name": "stdout",
     "output_type": "stream",
     "text": [
      "<class 'pandas.core.frame.DataFrame'>\n",
      "RangeIndex: 179496 entries, 0 to 179495\n",
      "Data columns (total 9 columns):\n",
      "id              179496 non-null int64\n",
      "api             179496 non-null object\n",
      "count           179496 non-null int64\n",
      "res_time_sum    179496 non-null float64\n",
      "res_time_min    179496 non-null float64\n",
      "res_time_max    179496 non-null float64\n",
      "res_time_avg    179496 non-null float64\n",
      "interval        179496 non-null int64\n",
      "created_at      179496 non-null object\n",
      "dtypes: float64(4), int64(3), object(2)\n",
      "memory usage: 11.0+ MB\n"
     ]
    }
   ],
   "source": [
    "df.info()  # 磁盘占用空间"
   ]
  },
  {
   "cell_type": "code",
   "execution_count": 9,
   "metadata": {},
   "outputs": [
    {
     "data": {
      "text/plain": [
       "count                     179496\n",
       "unique                         1\n",
       "top       /front-api/bill/create\n",
       "freq                      179496\n",
       "Name: api, dtype: object"
      ]
     },
     "execution_count": 9,
     "metadata": {},
     "output_type": "execute_result"
    }
   ],
   "source": [
    "df['api'].describe()\n",
    "# df['api'].unique()"
   ]
  },
  {
   "cell_type": "code",
   "execution_count": 10,
   "metadata": {},
   "outputs": [],
   "source": [
    "df = df.drop(['api','interval'],axis=1)"
   ]
  },
  {
   "cell_type": "code",
   "execution_count": 11,
   "metadata": {},
   "outputs": [
    {
     "data": {
      "text/plain": [
       "Index(['id', 'count', 'res_time_sum', 'res_time_min', 'res_time_max',\n",
       "       'res_time_avg', 'created_at'],\n",
       "      dtype='object')"
      ]
     },
     "execution_count": 11,
     "metadata": {},
     "output_type": "execute_result"
    }
   ],
   "source": [
    "df.columns"
   ]
  },
  {
   "cell_type": "code",
   "execution_count": 12,
   "metadata": {},
   "outputs": [
    {
     "name": "stdout",
     "output_type": "stream",
     "text": [
      "<class 'pandas.core.frame.DataFrame'>\n",
      "RangeIndex: 179496 entries, 0 to 179495\n",
      "Data columns (total 7 columns):\n",
      "id              179496 non-null int64\n",
      "count           179496 non-null int64\n",
      "res_time_sum    179496 non-null float64\n",
      "res_time_min    179496 non-null float64\n",
      "res_time_max    179496 non-null float64\n",
      "res_time_avg    179496 non-null float64\n",
      "created_at      179496 non-null object\n",
      "dtypes: float64(4), int64(2), object(1)\n",
      "memory usage: 8.9+ MB\n"
     ]
    }
   ],
   "source": [
    "df.info()"
   ]
  },
  {
   "cell_type": "code",
   "execution_count": 13,
   "metadata": {},
   "outputs": [
    {
     "data": {
      "text/plain": [
       "count                  179496\n",
       "unique                 179496\n",
       "top       2018-04-04 16:18:20\n",
       "freq                        1\n",
       "Name: created_at, dtype: object"
      ]
     },
     "execution_count": 13,
     "metadata": {},
     "output_type": "execute_result"
    }
   ],
   "source": [
    "df['created_at'].describe() # 很多时候拿时间当主键"
   ]
  },
  {
   "cell_type": "code",
   "execution_count": 14,
   "metadata": {},
   "outputs": [],
   "source": [
    "t = pd.to_datetime(df['created_at'])"
   ]
  },
  {
   "cell_type": "code",
   "execution_count": 15,
   "metadata": {},
   "outputs": [
    {
     "data": {
      "text/plain": [
       "0         2017-11-01 00:00:07\n",
       "1         2017-11-01 00:01:07\n",
       "2         2017-11-01 00:02:07\n",
       "3         2017-11-01 00:03:07\n",
       "4         2017-11-01 00:04:07\n",
       "5         2017-11-01 00:05:07\n",
       "6         2017-11-01 00:06:07\n",
       "7         2017-11-01 00:07:07\n",
       "8         2017-11-01 00:08:07\n",
       "9         2017-11-01 00:09:07\n",
       "10        2017-11-01 00:10:07\n",
       "11        2017-11-01 00:11:07\n",
       "12        2017-11-01 00:13:07\n",
       "13        2017-11-01 00:14:07\n",
       "14        2017-11-01 00:15:07\n",
       "15        2017-11-01 00:16:07\n",
       "16        2017-11-01 00:17:07\n",
       "17        2017-11-01 00:18:07\n",
       "18        2017-11-01 00:19:07\n",
       "19        2017-11-01 00:20:07\n",
       "20        2017-11-01 00:21:07\n",
       "21        2017-11-01 00:22:07\n",
       "22        2017-11-01 00:23:07\n",
       "23        2017-11-01 00:24:07\n",
       "24        2017-11-01 00:25:07\n",
       "25        2017-11-01 00:26:07\n",
       "26        2017-11-01 00:27:07\n",
       "27        2017-11-01 00:29:07\n",
       "28        2017-11-01 00:30:07\n",
       "29        2017-11-01 00:31:07\n",
       "                 ...         \n",
       "179466    2018-05-30 22:41:21\n",
       "179467    2018-05-30 22:42:21\n",
       "179468    2018-05-30 22:43:21\n",
       "179469    2018-05-30 22:44:21\n",
       "179470    2018-05-30 22:45:21\n",
       "179471    2018-05-30 22:46:21\n",
       "179472    2018-05-30 22:47:21\n",
       "179473    2018-05-30 22:48:21\n",
       "179474    2018-05-30 22:49:21\n",
       "179475    2018-05-30 22:50:21\n",
       "179476    2018-05-30 22:51:21\n",
       "179477    2018-05-30 22:52:21\n",
       "179478    2018-05-30 22:53:21\n",
       "179479    2018-05-30 22:54:21\n",
       "179480    2018-05-30 22:55:21\n",
       "179481    2018-05-30 22:56:21\n",
       "179482    2018-05-30 22:57:21\n",
       "179483    2018-05-30 22:58:21\n",
       "179484    2018-05-30 22:59:21\n",
       "179485    2018-05-30 23:00:21\n",
       "179486    2018-05-30 23:01:21\n",
       "179487    2018-05-30 23:02:21\n",
       "179488    2018-05-30 23:03:21\n",
       "179489    2018-05-30 23:04:21\n",
       "179490    2018-05-30 23:05:21\n",
       "179491    2018-05-30 23:06:21\n",
       "179492    2018-05-30 23:07:21\n",
       "179493    2018-05-30 23:08:21\n",
       "179494    2018-05-30 23:09:21\n",
       "179495    2018-05-30 23:10:21\n",
       "Name: created_at, Length: 179496, dtype: object"
      ]
     },
     "execution_count": 15,
     "metadata": {},
     "output_type": "execute_result"
    }
   ],
   "source": [
    "df.created_at"
   ]
  },
  {
   "cell_type": "code",
   "execution_count": 16,
   "metadata": {},
   "outputs": [
    {
     "data": {
      "text/plain": [
       "0         2017-11-01 00:00:07\n",
       "1         2017-11-01 00:01:07\n",
       "2         2017-11-01 00:02:07\n",
       "3         2017-11-01 00:03:07\n",
       "4         2017-11-01 00:04:07\n",
       "5         2017-11-01 00:05:07\n",
       "6         2017-11-01 00:06:07\n",
       "7         2017-11-01 00:07:07\n",
       "8         2017-11-01 00:08:07\n",
       "9         2017-11-01 00:09:07\n",
       "10        2017-11-01 00:10:07\n",
       "11        2017-11-01 00:11:07\n",
       "12        2017-11-01 00:13:07\n",
       "13        2017-11-01 00:14:07\n",
       "14        2017-11-01 00:15:07\n",
       "15        2017-11-01 00:16:07\n",
       "16        2017-11-01 00:17:07\n",
       "17        2017-11-01 00:18:07\n",
       "18        2017-11-01 00:19:07\n",
       "19        2017-11-01 00:20:07\n",
       "20        2017-11-01 00:21:07\n",
       "21        2017-11-01 00:22:07\n",
       "22        2017-11-01 00:23:07\n",
       "23        2017-11-01 00:24:07\n",
       "24        2017-11-01 00:25:07\n",
       "25        2017-11-01 00:26:07\n",
       "26        2017-11-01 00:27:07\n",
       "27        2017-11-01 00:29:07\n",
       "28        2017-11-01 00:30:07\n",
       "29        2017-11-01 00:31:07\n",
       "                 ...         \n",
       "179466    2018-05-30 22:41:21\n",
       "179467    2018-05-30 22:42:21\n",
       "179468    2018-05-30 22:43:21\n",
       "179469    2018-05-30 22:44:21\n",
       "179470    2018-05-30 22:45:21\n",
       "179471    2018-05-30 22:46:21\n",
       "179472    2018-05-30 22:47:21\n",
       "179473    2018-05-30 22:48:21\n",
       "179474    2018-05-30 22:49:21\n",
       "179475    2018-05-30 22:50:21\n",
       "179476    2018-05-30 22:51:21\n",
       "179477    2018-05-30 22:52:21\n",
       "179478    2018-05-30 22:53:21\n",
       "179479    2018-05-30 22:54:21\n",
       "179480    2018-05-30 22:55:21\n",
       "179481    2018-05-30 22:56:21\n",
       "179482    2018-05-30 22:57:21\n",
       "179483    2018-05-30 22:58:21\n",
       "179484    2018-05-30 22:59:21\n",
       "179485    2018-05-30 23:00:21\n",
       "179486    2018-05-30 23:01:21\n",
       "179487    2018-05-30 23:02:21\n",
       "179488    2018-05-30 23:03:21\n",
       "179489    2018-05-30 23:04:21\n",
       "179490    2018-05-30 23:05:21\n",
       "179491    2018-05-30 23:06:21\n",
       "179492    2018-05-30 23:07:21\n",
       "179493    2018-05-30 23:08:21\n",
       "179494    2018-05-30 23:09:21\n",
       "179495    2018-05-30 23:10:21\n",
       "Name: created_at, Length: 179496, dtype: object"
      ]
     },
     "execution_count": 16,
     "metadata": {},
     "output_type": "execute_result"
    }
   ],
   "source": [
    "df['created_at']"
   ]
  },
  {
   "cell_type": "code",
   "execution_count": 17,
   "metadata": {
    "scrolled": true
   },
   "outputs": [],
   "source": [
    "df.index = t"
   ]
  },
  {
   "cell_type": "code",
   "execution_count": 18,
   "metadata": {},
   "outputs": [],
   "source": [
    "df = df.drop(['id','created_at'],axis=1)"
   ]
  },
  {
   "cell_type": "code",
   "execution_count": 19,
   "metadata": {},
   "outputs": [
    {
     "name": "stdout",
     "output_type": "stream",
     "text": [
      "<class 'pandas.core.frame.DataFrame'>\n",
      "DatetimeIndex: 179496 entries, 2017-11-01 00:00:07 to 2018-05-30 23:10:21\n",
      "Data columns (total 5 columns):\n",
      "count           179496 non-null int64\n",
      "res_time_sum    179496 non-null float64\n",
      "res_time_min    179496 non-null float64\n",
      "res_time_max    179496 non-null float64\n",
      "res_time_avg    179496 non-null float64\n",
      "dtypes: float64(4), int64(1)\n",
      "memory usage: 8.2 MB\n"
     ]
    }
   ],
   "source": [
    "df.info()"
   ]
  },
  {
   "cell_type": "code",
   "execution_count": 20,
   "metadata": {
    "scrolled": true
   },
   "outputs": [
    {
     "data": {
      "text/html": [
       "<div>\n",
       "<style scoped>\n",
       "    .dataframe tbody tr th:only-of-type {\n",
       "        vertical-align: middle;\n",
       "    }\n",
       "\n",
       "    .dataframe tbody tr th {\n",
       "        vertical-align: top;\n",
       "    }\n",
       "\n",
       "    .dataframe thead th {\n",
       "        text-align: right;\n",
       "    }\n",
       "</style>\n",
       "<table border=\"1\" class=\"dataframe\">\n",
       "  <thead>\n",
       "    <tr style=\"text-align: right;\">\n",
       "      <th></th>\n",
       "      <th>count</th>\n",
       "      <th>res_time_sum</th>\n",
       "      <th>res_time_min</th>\n",
       "      <th>res_time_max</th>\n",
       "      <th>res_time_avg</th>\n",
       "    </tr>\n",
       "  </thead>\n",
       "  <tbody>\n",
       "    <tr>\n",
       "      <th>count</th>\n",
       "      <td>179496.000000</td>\n",
       "      <td>179496.000000</td>\n",
       "      <td>179496.000000</td>\n",
       "      <td>179496.000000</td>\n",
       "      <td>179496.000000</td>\n",
       "    </tr>\n",
       "    <tr>\n",
       "      <th>mean</th>\n",
       "      <td>7.175909</td>\n",
       "      <td>1393.177370</td>\n",
       "      <td>108.419620</td>\n",
       "      <td>359.880351</td>\n",
       "      <td>187.812208</td>\n",
       "    </tr>\n",
       "    <tr>\n",
       "      <th>std</th>\n",
       "      <td>4.325160</td>\n",
       "      <td>1499.485881</td>\n",
       "      <td>79.640559</td>\n",
       "      <td>638.919769</td>\n",
       "      <td>224.464813</td>\n",
       "    </tr>\n",
       "    <tr>\n",
       "      <th>min</th>\n",
       "      <td>1.000000</td>\n",
       "      <td>36.550000</td>\n",
       "      <td>3.210000</td>\n",
       "      <td>36.550000</td>\n",
       "      <td>36.000000</td>\n",
       "    </tr>\n",
       "    <tr>\n",
       "      <th>25%</th>\n",
       "      <td>4.000000</td>\n",
       "      <td>607.707500</td>\n",
       "      <td>83.410000</td>\n",
       "      <td>198.280000</td>\n",
       "      <td>144.000000</td>\n",
       "    </tr>\n",
       "    <tr>\n",
       "      <th>50%</th>\n",
       "      <td>7.000000</td>\n",
       "      <td>1154.905000</td>\n",
       "      <td>97.120000</td>\n",
       "      <td>256.090000</td>\n",
       "      <td>167.000000</td>\n",
       "    </tr>\n",
       "    <tr>\n",
       "      <th>75%</th>\n",
       "      <td>10.000000</td>\n",
       "      <td>1834.117500</td>\n",
       "      <td>116.990000</td>\n",
       "      <td>374.410000</td>\n",
       "      <td>202.000000</td>\n",
       "    </tr>\n",
       "    <tr>\n",
       "      <th>max</th>\n",
       "      <td>31.000000</td>\n",
       "      <td>142650.550000</td>\n",
       "      <td>18896.640000</td>\n",
       "      <td>142468.270000</td>\n",
       "      <td>71325.000000</td>\n",
       "    </tr>\n",
       "  </tbody>\n",
       "</table>\n",
       "</div>"
      ],
      "text/plain": [
       "               count   res_time_sum   res_time_min   res_time_max  \\\n",
       "count  179496.000000  179496.000000  179496.000000  179496.000000   \n",
       "mean        7.175909    1393.177370     108.419620     359.880351   \n",
       "std         4.325160    1499.485881      79.640559     638.919769   \n",
       "min         1.000000      36.550000       3.210000      36.550000   \n",
       "25%         4.000000     607.707500      83.410000     198.280000   \n",
       "50%         7.000000    1154.905000      97.120000     256.090000   \n",
       "75%        10.000000    1834.117500     116.990000     374.410000   \n",
       "max        31.000000  142650.550000   18896.640000  142468.270000   \n",
       "\n",
       "        res_time_avg  \n",
       "count  179496.000000  \n",
       "mean      187.812208  \n",
       "std       224.464813  \n",
       "min        36.000000  \n",
       "25%       144.000000  \n",
       "50%       167.000000  \n",
       "75%       202.000000  \n",
       "max     71325.000000  "
      ]
     },
     "execution_count": 20,
     "metadata": {},
     "output_type": "execute_result"
    }
   ],
   "source": [
    "df.describe()"
   ]
  },
  {
   "cell_type": "code",
   "execution_count": 22,
   "metadata": {
    "scrolled": true
   },
   "outputs": [
    {
     "name": "stdout",
     "output_type": "stream",
     "text": [
      "<class 'pandas.core.frame.DataFrame'>\n",
      "DatetimeIndex: 179496 entries, 2017-11-01 00:00:07 to 2018-05-30 23:10:21\n",
      "Data columns (total 5 columns):\n",
      "count           179496 non-null int64\n",
      "res_time_sum    179496 non-null float64\n",
      "res_time_min    179496 non-null float64\n",
      "res_time_max    179496 non-null float64\n",
      "res_time_avg    179496 non-null float64\n",
      "dtypes: float64(4), int64(1)\n",
      "memory usage: 8.2 MB\n"
     ]
    }
   ],
   "source": [
    "df.info()"
   ]
  },
  {
   "cell_type": "code",
   "execution_count": 23,
   "metadata": {},
   "outputs": [
    {
     "data": {
      "text/plain": [
       "count    179496.000000\n",
       "mean        187.812208\n",
       "std         224.464813\n",
       "min          36.000000\n",
       "25%         144.000000\n",
       "50%         167.000000\n",
       "75%         202.000000\n",
       "max       71325.000000\n",
       "Name: res_time_avg, dtype: float64"
      ]
     },
     "execution_count": 23,
     "metadata": {},
     "output_type": "execute_result"
    }
   ],
   "source": [
    "df.res_time_avg.describe()"
   ]
  },
  {
   "cell_type": "code",
   "execution_count": 24,
   "metadata": {},
   "outputs": [
    {
     "data": {
      "text/plain": [
       "count    179496.000000\n",
       "mean        187.812208\n",
       "std         224.464813\n",
       "min          36.000000\n",
       "25%         144.000000\n",
       "50%         167.000000\n",
       "75%         202.000000\n",
       "max       71325.000000\n",
       "Name: res_time_avg, dtype: float64"
      ]
     },
     "execution_count": 24,
     "metadata": {},
     "output_type": "execute_result"
    }
   ],
   "source": [
    "df['res_time_avg'].describe()"
   ]
  },
  {
   "cell_type": "code",
   "execution_count": 26,
   "metadata": {},
   "outputs": [
    {
     "data": {
      "text/plain": [
       "<matplotlib.axes._subplots.AxesSubplot at 0x11ae610>"
      ]
     },
     "execution_count": 26,
     "metadata": {},
     "output_type": "execute_result"
    },
    {
     "data": {
      "image/png": "[encoded data removed]",
      "text/plain": [
       "<Figure size 432x288 with 1 Axes>"
      ]
     },
     "metadata": {
      "needs_background": "light"
     },
     "output_type": "display_data"
    }
   ],
   "source": [
    "df['count'].hist(b)"
   ]
  },
  {
   "cell_type": "code",
   "execution_count": 27,
   "metadata": {},
   "outputs": [
    {
     "data": {
      "text/plain": [
       "<matplotlib.axes._subplots.AxesSubplot at 0x12aa890>"
      ]
     },
     "execution_count": 27,
     "metadata": {},
     "output_type": "execute_result"
    },
    {
     "data": {
      "image/png": "[encoded data removed]",
      "text/plain": [
       "<Figure size 432x288 with 1 Axes>"
      ]
     },
     "metadata": {
      "needs_background": "light"
     },
     "output_type": "display_data"
    }
   ],
   "source": [
    "df['2018-05-02']['count'].plot()"
   ]
  },
  {
   "cell_type": "code",
   "execution_count": 28,
   "metadata": {},
   "outputs": [],
   "source": [
    "df2 = df['2018-05-01']"
   ]
  },
  {
   "cell_type": "code",
   "execution_count": 32,
   "metadata": {},
   "outputs": [
    {
     "data": {
      "text/plain": [
       "<matplotlib.axes._subplots.AxesSubplot at 0x1659b790>"
      ]
     },
     "execution_count": 32,
     "metadata": {},
     "output_type": "execute_result"
    },
    {
     "data": {
      "image/png": "[encoded data removed]",
      "text/plain": [
       "<Figure size 432x288 with 1 Axes>"
      ]
     },
     "metadata": {
      "needs_background": "light"
     },
     "output_type": "display_data"
    }
   ],
   "source": [
    "df2 = df2[['count']].resample('1H').mean() # 一个中括号是series对象，2个中括号是DataFrame对象\n",
    "df2['count'].plot()"
   ]
  },
  {
   "cell_type": "code",
   "execution_count": 38,
   "metadata": {},
   "outputs": [
    {
     "data": {
      "image/png": "[encoded data removed]",
      "text/plain": [
       "<Figure size 432x288 with 1 Axes>"
      ]
     },
     "metadata": {
      "needs_background": "light"
     },
     "output_type": "display_data"
    }
   ],
   "source": [
    "df2['count'].plot(kind='bar')\n",
    "plt.xticks(rotation=60)\n",
    "plt.show()"
   ]
  },
  {
   "cell_type": "code",
   "execution_count": 40,
   "metadata": {},
   "outputs": [
    {
     "data": {
      "text/plain": [
       "<matplotlib.axes._subplots.AxesSubplot at 0x16781470>"
      ]
     },
     "execution_count": 40,
     "metadata": {},
     "output_type": "execute_result"
    },
    {
     "data": {
      "image/png": "[encoded data removed]",
      "text/plain": [
       "<Figure size 432x288 with 1 Axes>"
      ]
     },
     "metadata": {
      "needs_background": "light"
     },
     "output_type": "display_data"
    }
   ],
   "source": [
    "df['2018-05-01'][['count']].boxplot()"
   ]
  },
  {
   "cell_type": "code",
   "execution_count": null,
   "metadata": {},
   "outputs": [],
   "source": []
  }
 ],
 "metadata": {
  "kernelspec": {
   "display_name": "Python 3",
   "language": "python",
   "name": "python3"
  },
  "language_info": {
   "codemirror_mode": {
    "name": "ipython",
    "version": 3
   },
   "file_extension": ".py",
   "mimetype": "text/x-python",
   "name": "python",
   "nbconvert_exporter": "python",
   "pygments_lexer": "ipython3",
   "version": "3.6.5"
  }
 },
 "nbformat": 4,
 "nbformat_minor": 2
}
