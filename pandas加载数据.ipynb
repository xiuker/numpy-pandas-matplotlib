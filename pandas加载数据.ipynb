{
 "cells": [
  {
   "cell_type": "code",
   "execution_count": 1,
   "metadata": {},
   "outputs": [],
   "source": [
    "import pandas as pd"
   ]
  },
  {
   "cell_type": "markdown",
   "metadata": {},
   "source": [
    "## TEXT"
   ]
  },
  {
   "cell_type": "code",
   "execution_count": 43,
   "metadata": {},
   "outputs": [
    {
     "name": "stderr",
     "output_type": "stream",
     "text": [
      "c:\\users\\贺青松\\appdata\\local\\programs\\python\\python36-32\\lib\\site-packages\\ipykernel_launcher.py:1: FutureWarning: read_table is deprecated, use read_csv instead, passing sep='\\t'.\n",
      "  \"\"\"Entry point for launching an IPython kernel.\n"
     ]
    },
    {
     "data": {
      "text/html": [
       "<div>\n",
       "<style scoped>\n",
       "    .dataframe tbody tr th:only-of-type {\n",
       "        vertical-align: middle;\n",
       "    }\n",
       "\n",
       "    .dataframe tbody tr th {\n",
       "        vertical-align: top;\n",
       "    }\n",
       "\n",
       "    .dataframe thead th {\n",
       "        text-align: right;\n",
       "    }\n",
       "</style>\n",
       "<table border=\"1\" class=\"dataframe\">\n",
       "  <thead>\n",
       "    <tr style=\"text-align: right;\">\n",
       "      <th></th>\n",
       "      <th>email</th>\n",
       "    </tr>\n",
       "  </thead>\n",
       "  <tbody>\n",
       "    <tr>\n",
       "      <th>0</th>\n",
       "      <td>jack@example.com</td>\n",
       "    </tr>\n",
       "    <tr>\n",
       "      <th>1</th>\n",
       "      <td>marry@example.com</td>\n",
       "    </tr>\n",
       "    <tr>\n",
       "      <th>2</th>\n",
       "      <td>lily@example.com</td>\n",
       "    </tr>\n",
       "    <tr>\n",
       "      <th>3</th>\n",
       "      <td>tom@example.com</td>\n",
       "    </tr>\n",
       "  </tbody>\n",
       "</table>\n",
       "</div>"
      ],
      "text/plain": [
       "               email\n",
       "0   jack@example.com\n",
       "1  marry@example.com\n",
       "2   lily@example.com\n",
       "3    tom@example.com"
      ]
     },
     "execution_count": 43,
     "metadata": {},
     "output_type": "execute_result"
    }
   ],
   "source": [
    "pd.read_table('my/1.txt')"
   ]
  },
  {
   "cell_type": "code",
   "execution_count": 4,
   "metadata": {},
   "outputs": [
    {
     "name": "stderr",
     "output_type": "stream",
     "text": [
      "c:\\users\\贺青松\\appdata\\local\\programs\\python\\python36-32\\lib\\site-packages\\ipykernel_launcher.py:1: FutureWarning: read_table is deprecated, use read_csv instead, passing sep='\\t'.\n",
      "  \"\"\"Entry point for launching an IPython kernel.\n"
     ]
    },
    {
     "data": {
      "text/html": [
       "<div>\n",
       "<style scoped>\n",
       "    .dataframe tbody tr th:only-of-type {\n",
       "        vertical-align: middle;\n",
       "    }\n",
       "\n",
       "    .dataframe tbody tr th {\n",
       "        vertical-align: top;\n",
       "    }\n",
       "\n",
       "    .dataframe thead th {\n",
       "        text-align: right;\n",
       "    }\n",
       "</style>\n",
       "<table border=\"1\" class=\"dataframe\">\n",
       "  <thead>\n",
       "    <tr style=\"text-align: right;\">\n",
       "      <th></th>\n",
       "      <th>name</th>\n",
       "      <th>age</th>\n",
       "      <th>email</th>\n",
       "    </tr>\n",
       "  </thead>\n",
       "  <tbody>\n",
       "    <tr>\n",
       "      <th>0</th>\n",
       "      <td>jack</td>\n",
       "      <td>18</td>\n",
       "      <td>jack@example.com</td>\n",
       "    </tr>\n",
       "    <tr>\n",
       "      <th>1</th>\n",
       "      <td>lily</td>\n",
       "      <td>22</td>\n",
       "      <td>lily@example.com</td>\n",
       "    </tr>\n",
       "    <tr>\n",
       "      <th>2</th>\n",
       "      <td>tom</td>\n",
       "      <td>21</td>\n",
       "      <td>tom@example.com</td>\n",
       "    </tr>\n",
       "  </tbody>\n",
       "</table>\n",
       "</div>"
      ],
      "text/plain": [
       "   name  age             email\n",
       "0  jack   18  jack@example.com\n",
       "1  lily   22  lily@example.com\n",
       "2   tom   21   tom@example.com"
      ]
     },
     "execution_count": 4,
     "metadata": {},
     "output_type": "execute_result"
    }
   ],
   "source": [
    "pd.read_table('my/2.txt')"
   ]
  },
  {
   "cell_type": "code",
   "execution_count": 6,
   "metadata": {},
   "outputs": [
    {
     "name": "stderr",
     "output_type": "stream",
     "text": [
      "c:\\users\\贺青松\\appdata\\local\\programs\\python\\python36-32\\lib\\site-packages\\ipykernel_launcher.py:1: FutureWarning: read_table is deprecated, use read_csv instead.\n",
      "  \"\"\"Entry point for launching an IPython kernel.\n"
     ]
    },
    {
     "data": {
      "text/html": [
       "<div>\n",
       "<style scoped>\n",
       "    .dataframe tbody tr th:only-of-type {\n",
       "        vertical-align: middle;\n",
       "    }\n",
       "\n",
       "    .dataframe tbody tr th {\n",
       "        vertical-align: top;\n",
       "    }\n",
       "\n",
       "    .dataframe thead th {\n",
       "        text-align: right;\n",
       "    }\n",
       "</style>\n",
       "<table border=\"1\" class=\"dataframe\">\n",
       "  <thead>\n",
       "    <tr style=\"text-align: right;\">\n",
       "      <th></th>\n",
       "      <th>0</th>\n",
       "      <th>1</th>\n",
       "      <th>2</th>\n",
       "      <th>3</th>\n",
       "      <th>4</th>\n",
       "      <th>5</th>\n",
       "      <th>6</th>\n",
       "    </tr>\n",
       "  </thead>\n",
       "  <tbody>\n",
       "    <tr>\n",
       "      <th>0</th>\n",
       "      <td>root</td>\n",
       "      <td>x</td>\n",
       "      <td>0</td>\n",
       "      <td>0</td>\n",
       "      <td>root</td>\n",
       "      <td>/root</td>\n",
       "      <td>/bin/bash</td>\n",
       "    </tr>\n",
       "    <tr>\n",
       "      <th>1</th>\n",
       "      <td>bin</td>\n",
       "      <td>x</td>\n",
       "      <td>2</td>\n",
       "      <td>2</td>\n",
       "      <td>bin</td>\n",
       "      <td>/bin</td>\n",
       "      <td>/usr/sbin/nologin</td>\n",
       "    </tr>\n",
       "  </tbody>\n",
       "</table>\n",
       "</div>"
      ],
      "text/plain": [
       "      0  1  2  3     4      5                  6\n",
       "0  root  x  0  0  root  /root          /bin/bash\n",
       "1   bin  x  2  2   bin   /bin  /usr/sbin/nologin"
      ]
     },
     "execution_count": 6,
     "metadata": {},
     "output_type": "execute_result"
    }
   ],
   "source": [
    "pd.read_table('my/3.txt',sep=':',header=None)"
   ]
  },
  {
   "cell_type": "code",
   "execution_count": 7,
   "metadata": {},
   "outputs": [
    {
     "name": "stderr",
     "output_type": "stream",
     "text": [
      "c:\\users\\贺青松\\appdata\\local\\programs\\python\\python36-32\\lib\\site-packages\\ipykernel_launcher.py:1: FutureWarning: read_table is deprecated, use read_csv instead.\n",
      "  \"\"\"Entry point for launching an IPython kernel.\n"
     ]
    },
    {
     "data": {
      "text/html": [
       "<div>\n",
       "<style scoped>\n",
       "    .dataframe tbody tr th:only-of-type {\n",
       "        vertical-align: middle;\n",
       "    }\n",
       "\n",
       "    .dataframe tbody tr th {\n",
       "        vertical-align: top;\n",
       "    }\n",
       "\n",
       "    .dataframe thead th {\n",
       "        text-align: right;\n",
       "    }\n",
       "</style>\n",
       "<table border=\"1\" class=\"dataframe\">\n",
       "  <thead>\n",
       "    <tr style=\"text-align: right;\">\n",
       "      <th></th>\n",
       "      <th>name</th>\n",
       "      <th>pwd</th>\n",
       "      <th>uid</th>\n",
       "      <th>gid</th>\n",
       "      <th>local</th>\n",
       "      <th>home</th>\n",
       "      <th>shell</th>\n",
       "    </tr>\n",
       "  </thead>\n",
       "  <tbody>\n",
       "    <tr>\n",
       "      <th>0</th>\n",
       "      <td>root</td>\n",
       "      <td>x</td>\n",
       "      <td>0</td>\n",
       "      <td>0</td>\n",
       "      <td>root</td>\n",
       "      <td>/root</td>\n",
       "      <td>/bin/bash</td>\n",
       "    </tr>\n",
       "    <tr>\n",
       "      <th>1</th>\n",
       "      <td>bin</td>\n",
       "      <td>x</td>\n",
       "      <td>2</td>\n",
       "      <td>2</td>\n",
       "      <td>bin</td>\n",
       "      <td>/bin</td>\n",
       "      <td>/usr/sbin/nologin</td>\n",
       "    </tr>\n",
       "  </tbody>\n",
       "</table>\n",
       "</div>"
      ],
      "text/plain": [
       "   name pwd  uid  gid local   home              shell\n",
       "0  root   x    0    0  root  /root          /bin/bash\n",
       "1   bin   x    2    2   bin   /bin  /usr/sbin/nologin"
      ]
     },
     "execution_count": 7,
     "metadata": {},
     "output_type": "execute_result"
    }
   ],
   "source": [
    "pd.read_table('my/3.txt',sep=':',names=['name','pwd','uid','gid','local','home','shell'])"
   ]
  },
  {
   "cell_type": "markdown",
   "metadata": {},
   "source": [
    "## CSV"
   ]
  },
  {
   "cell_type": "code",
   "execution_count": 14,
   "metadata": {},
   "outputs": [
    {
     "data": {
      "text/html": [
       "<div>\n",
       "<style scoped>\n",
       "    .dataframe tbody tr th:only-of-type {\n",
       "        vertical-align: middle;\n",
       "    }\n",
       "\n",
       "    .dataframe tbody tr th {\n",
       "        vertical-align: top;\n",
       "    }\n",
       "\n",
       "    .dataframe thead th {\n",
       "        text-align: right;\n",
       "    }\n",
       "</style>\n",
       "<table border=\"1\" class=\"dataframe\">\n",
       "  <thead>\n",
       "    <tr style=\"text-align: right;\">\n",
       "      <th></th>\n",
       "      <th>bookname</th>\n",
       "      <th>price</th>\n",
       "    </tr>\n",
       "  </thead>\n",
       "  <tbody>\n",
       "    <tr>\n",
       "      <th>0</th>\n",
       "      <td>endworld</td>\n",
       "      <td>29.9</td>\n",
       "    </tr>\n",
       "    <tr>\n",
       "      <th>1</th>\n",
       "      <td>nameless</td>\n",
       "      <td>62.0</td>\n",
       "    </tr>\n",
       "    <tr>\n",
       "      <th>2</th>\n",
       "      <td>animation</td>\n",
       "      <td>28.9</td>\n",
       "    </tr>\n",
       "  </tbody>\n",
       "</table>\n",
       "</div>"
      ],
      "text/plain": [
       "    bookname  price\n",
       "0   endworld   29.9\n",
       "1   nameless   62.0\n",
       "2  animation   28.9"
      ]
     },
     "execution_count": 14,
     "metadata": {},
     "output_type": "execute_result"
    }
   ],
   "source": [
    "pd.read_csv('my/4.csv',encoding='utf-8')"
   ]
  },
  {
   "cell_type": "code",
   "execution_count": 19,
   "metadata": {},
   "outputs": [
    {
     "data": {
      "text/html": [
       "<div>\n",
       "<style scoped>\n",
       "    .dataframe tbody tr th:only-of-type {\n",
       "        vertical-align: middle;\n",
       "    }\n",
       "\n",
       "    .dataframe tbody tr th {\n",
       "        vertical-align: top;\n",
       "    }\n",
       "\n",
       "    .dataframe thead th {\n",
       "        text-align: right;\n",
       "    }\n",
       "</style>\n",
       "<table border=\"1\" class=\"dataframe\">\n",
       "  <thead>\n",
       "    <tr style=\"text-align: right;\">\n",
       "      <th></th>\n",
       "      <th>0</th>\n",
       "      <th>1</th>\n",
       "      <th>2</th>\n",
       "    </tr>\n",
       "  </thead>\n",
       "  <tbody>\n",
       "    <tr>\n",
       "      <th>0</th>\n",
       "      <td>张三</td>\n",
       "      <td>18</td>\n",
       "      <td>1.68</td>\n",
       "    </tr>\n",
       "    <tr>\n",
       "      <th>1</th>\n",
       "      <td>李四</td>\n",
       "      <td>19</td>\n",
       "      <td>1.73</td>\n",
       "    </tr>\n",
       "    <tr>\n",
       "      <th>2</th>\n",
       "      <td>王五</td>\n",
       "      <td>17</td>\n",
       "      <td>1.62</td>\n",
       "    </tr>\n",
       "  </tbody>\n",
       "</table>\n",
       "</div>"
      ],
      "text/plain": [
       "    0   1     2\n",
       "0  张三  18  1.68\n",
       "1  李四  19  1.73\n",
       "2  王五  17  1.62"
      ]
     },
     "execution_count": 19,
     "metadata": {},
     "output_type": "execute_result"
    }
   ],
   "source": [
    "pd.read_excel('my/5.xls',header=None)"
   ]
  },
  {
   "cell_type": "markdown",
   "metadata": {},
   "source": [
    "## Html"
   ]
  },
  {
   "cell_type": "code",
   "execution_count": 21,
   "metadata": {},
   "outputs": [],
   "source": [
    "t = pd.read_html('my/6.html')"
   ]
  },
  {
   "cell_type": "code",
   "execution_count": 22,
   "metadata": {},
   "outputs": [
    {
     "data": {
      "text/html": [
       "<div>\n",
       "<style scoped>\n",
       "    .dataframe tbody tr th:only-of-type {\n",
       "        vertical-align: middle;\n",
       "    }\n",
       "\n",
       "    .dataframe tbody tr th {\n",
       "        vertical-align: top;\n",
       "    }\n",
       "\n",
       "    .dataframe thead th {\n",
       "        text-align: right;\n",
       "    }\n",
       "</style>\n",
       "<table border=\"1\" class=\"dataframe\">\n",
       "  <thead>\n",
       "    <tr style=\"text-align: right;\">\n",
       "      <th></th>\n",
       "      <th>学号</th>\n",
       "      <th>姓名</th>\n",
       "      <th>年龄</th>\n",
       "      <th>班级</th>\n",
       "    </tr>\n",
       "  </thead>\n",
       "  <tbody>\n",
       "    <tr>\n",
       "      <th>0</th>\n",
       "      <td>1001</td>\n",
       "      <td>张三</td>\n",
       "      <td>22</td>\n",
       "      <td>python04</td>\n",
       "    </tr>\n",
       "    <tr>\n",
       "      <th>1</th>\n",
       "      <td>1002</td>\n",
       "      <td>李四</td>\n",
       "      <td>22</td>\n",
       "      <td>python04</td>\n",
       "    </tr>\n",
       "    <tr>\n",
       "      <th>2</th>\n",
       "      <td>1003</td>\n",
       "      <td>王五</td>\n",
       "      <td>王五</td>\n",
       "      <td>python04</td>\n",
       "    </tr>\n",
       "  </tbody>\n",
       "</table>\n",
       "</div>"
      ],
      "text/plain": [
       "     学号  姓名  年龄        班级\n",
       "0  1001  张三  22  python04\n",
       "1  1002  李四  22  python04\n",
       "2  1003  王五  王五  python04"
      ]
     },
     "execution_count": 22,
     "metadata": {},
     "output_type": "execute_result"
    }
   ],
   "source": [
    "t[0]"
   ]
  },
  {
   "cell_type": "code",
   "execution_count": 24,
   "metadata": {},
   "outputs": [
    {
     "data": {
      "text/plain": [
       "1"
      ]
     },
     "execution_count": 24,
     "metadata": {},
     "output_type": "execute_result"
    }
   ],
   "source": [
    "len(t)"
   ]
  },
  {
   "cell_type": "markdown",
   "metadata": {},
   "source": [
    "## mysql"
   ]
  },
  {
   "cell_type": "code",
   "execution_count": 25,
   "metadata": {},
   "outputs": [],
   "source": [
    "import pymysql"
   ]
  },
  {
   "cell_type": "code",
   "execution_count": 26,
   "metadata": {},
   "outputs": [],
   "source": [
    "con = pymysql.connect(host='localhost',user='root',password='',db='shopdb',charset='utf8')"
   ]
  },
  {
   "cell_type": "code",
   "execution_count": 28,
   "metadata": {},
   "outputs": [],
   "source": [
    "sql = 'select * from users'\n",
    "data = pd.read_sql(sql,con)\n",
    "con.close()"
   ]
  },
  {
   "cell_type": "code",
   "execution_count": 29,
   "metadata": {},
   "outputs": [
    {
     "data": {
      "text/html": [
       "<div>\n",
       "<style scoped>\n",
       "    .dataframe tbody tr th:only-of-type {\n",
       "        vertical-align: middle;\n",
       "    }\n",
       "\n",
       "    .dataframe tbody tr th {\n",
       "        vertical-align: top;\n",
       "    }\n",
       "\n",
       "    .dataframe thead th {\n",
       "        text-align: right;\n",
       "    }\n",
       "</style>\n",
       "<table border=\"1\" class=\"dataframe\">\n",
       "  <thead>\n",
       "    <tr style=\"text-align: right;\">\n",
       "      <th></th>\n",
       "      <th>id</th>\n",
       "      <th>username</th>\n",
       "      <th>name</th>\n",
       "      <th>password</th>\n",
       "      <th>sex</th>\n",
       "      <th>address</th>\n",
       "      <th>code</th>\n",
       "      <th>phone</th>\n",
       "      <th>email</th>\n",
       "      <th>state</th>\n",
       "      <th>addtime</th>\n",
       "    </tr>\n",
       "  </thead>\n",
       "  <tbody>\n",
       "    <tr>\n",
       "      <th>0</th>\n",
       "      <td>1</td>\n",
       "      <td>admin</td>\n",
       "      <td>管理员2</td>\n",
       "      <td>21232f297a57a5a743894a0e4a801fc3</td>\n",
       "      <td>0</td>\n",
       "      <td>北京市朝阳区大山子007号</td>\n",
       "      <td>100086</td>\n",
       "      <td>13566686868</td>\n",
       "      <td>122794105@qq.com</td>\n",
       "      <td>0</td>\n",
       "      <td>2018-04-07 21:20:08</td>\n",
       "    </tr>\n",
       "    <tr>\n",
       "      <th>1</th>\n",
       "      <td>3</td>\n",
       "      <td>zhangsan</td>\n",
       "      <td>张三</td>\n",
       "      <td>ea48576f30be1669971699c09ad05c94</td>\n",
       "      <td>1</td>\n",
       "      <td>北京市三里河蘑菇村102号</td>\n",
       "      <td>10089</td>\n",
       "      <td>12345676890</td>\n",
       "      <td>zhangsan@11.com</td>\n",
       "      <td>1</td>\n",
       "      <td>2018-04-08 11:11:18</td>\n",
       "    </tr>\n",
       "    <tr>\n",
       "      <th>2</th>\n",
       "      <td>4</td>\n",
       "      <td>lisi</td>\n",
       "      <td>李四</td>\n",
       "      <td>202cb962ac59075b964b07152d234b70</td>\n",
       "      <td>0</td>\n",
       "      <td>北京市三里河蘑菇村103号</td>\n",
       "      <td>100088</td>\n",
       "      <td>6666666666666</td>\n",
       "      <td>lisi@11.com</td>\n",
       "      <td>2</td>\n",
       "      <td>2018-04-08 11:12:21</td>\n",
       "    </tr>\n",
       "    <tr>\n",
       "      <th>3</th>\n",
       "      <td>6</td>\n",
       "      <td>wangwu</td>\n",
       "      <td>王五</td>\n",
       "      <td>e10adc3949ba59abbe56e057f20f883e</td>\n",
       "      <td>0</td>\n",
       "      <td>北京市三里河蘑菇村102号</td>\n",
       "      <td>100086</td>\n",
       "      <td>12345676890</td>\n",
       "      <td>zhangsan@11.com</td>\n",
       "      <td>1</td>\n",
       "      <td>2018-04-08 12:58:58</td>\n",
       "    </tr>\n",
       "    <tr>\n",
       "      <th>4</th>\n",
       "      <td>7</td>\n",
       "      <td>along</td>\n",
       "      <td>张小龙</td>\n",
       "      <td>202cb962ac59075b964b07152d234b70</td>\n",
       "      <td>1</td>\n",
       "      <td>北京市海定区上地三街08号嘉华大厦B6-203</td>\n",
       "      <td>100098</td>\n",
       "      <td>12345657890</td>\n",
       "      <td>along@163.com</td>\n",
       "      <td>1</td>\n",
       "      <td>2018-04-10 07:49:45</td>\n",
       "    </tr>\n",
       "    <tr>\n",
       "      <th>5</th>\n",
       "      <td>8</td>\n",
       "      <td>caihua</td>\n",
       "      <td>菜花</td>\n",
       "      <td>202cb962ac59075b964b07152d234b70</td>\n",
       "      <td>0</td>\n",
       "      <td>北京市宣武区菜市口100号新龙小区3#-2-608</td>\n",
       "      <td>100036</td>\n",
       "      <td>1234567890</td>\n",
       "      <td>caihua@126.com</td>\n",
       "      <td>1</td>\n",
       "      <td>2018-04-10 07:51:27</td>\n",
       "    </tr>\n",
       "    <tr>\n",
       "      <th>6</th>\n",
       "      <td>9</td>\n",
       "      <td>huangsan</td>\n",
       "      <td>黄三</td>\n",
       "      <td>202cb962ac59075b964b07152d234b70</td>\n",
       "      <td>1</td>\n",
       "      <td>北京市昌平区回龙观流星花园A6-3-403</td>\n",
       "      <td>100082</td>\n",
       "      <td>13456767867</td>\n",
       "      <td>huansan@sohu.com</td>\n",
       "      <td>1</td>\n",
       "      <td>2018-04-10 07:53:18</td>\n",
       "    </tr>\n",
       "    <tr>\n",
       "      <th>7</th>\n",
       "      <td>10</td>\n",
       "      <td>aidehua</td>\n",
       "      <td>爱德华</td>\n",
       "      <td>202cb962ac59075b964b07152d234b70</td>\n",
       "      <td>1</td>\n",
       "      <td>北京市宣武区菜市口100号新龙小区3#-2-608</td>\n",
       "      <td>100088</td>\n",
       "      <td>12345657890</td>\n",
       "      <td>zhangsan@qq.com</td>\n",
       "      <td>1</td>\n",
       "      <td>2018-04-10 07:54:42</td>\n",
       "    </tr>\n",
       "    <tr>\n",
       "      <th>8</th>\n",
       "      <td>11</td>\n",
       "      <td>wangnan</td>\n",
       "      <td>王楠</td>\n",
       "      <td>202cb962ac59075b964b07152d234b70</td>\n",
       "      <td>1</td>\n",
       "      <td>北京市宣武区菜市口100号新龙小区3#-2-608</td>\n",
       "      <td>100088</td>\n",
       "      <td>12345657890</td>\n",
       "      <td>wangnan@180.com</td>\n",
       "      <td>1</td>\n",
       "      <td>2018-04-10 07:55:39</td>\n",
       "    </tr>\n",
       "    <tr>\n",
       "      <th>9</th>\n",
       "      <td>12</td>\n",
       "      <td>zhangle</td>\n",
       "      <td>张乐</td>\n",
       "      <td>202cb962ac59075b964b07152d234b70</td>\n",
       "      <td>0</td>\n",
       "      <td>北京市海定区上地三街08号嘉华大厦B6-203</td>\n",
       "      <td>100086</td>\n",
       "      <td>12345657890</td>\n",
       "      <td>zhangle@126.com</td>\n",
       "      <td>1</td>\n",
       "      <td>2018-04-10 07:56:36</td>\n",
       "    </tr>\n",
       "    <tr>\n",
       "      <th>10</th>\n",
       "      <td>13</td>\n",
       "      <td>wangsheng</td>\n",
       "      <td>王胜</td>\n",
       "      <td>202cb962ac59075b964b07152d234b70</td>\n",
       "      <td>1</td>\n",
       "      <td>北京市三里河蘑菇村102号</td>\n",
       "      <td>100088</td>\n",
       "      <td>33333333333</td>\n",
       "      <td>wangsheng@163.com</td>\n",
       "      <td>1</td>\n",
       "      <td>2018-04-10 07:57:27</td>\n",
       "    </tr>\n",
       "    <tr>\n",
       "      <th>11</th>\n",
       "      <td>14</td>\n",
       "      <td>xusheng</td>\n",
       "      <td>徐盛</td>\n",
       "      <td>202cb962ac59075b964b07152d234b70</td>\n",
       "      <td>1</td>\n",
       "      <td>北京市三里河蘑菇村103号</td>\n",
       "      <td>100088</td>\n",
       "      <td>12345657890</td>\n",
       "      <td>xusheng@122.com</td>\n",
       "      <td>1</td>\n",
       "      <td>2018-04-10 07:58:15</td>\n",
       "    </tr>\n",
       "    <tr>\n",
       "      <th>12</th>\n",
       "      <td>15</td>\n",
       "      <td>xumo</td>\n",
       "      <td>许墨</td>\n",
       "      <td>202cb962ac59075b964b07152d234b70</td>\n",
       "      <td>0</td>\n",
       "      <td>北京市三里河蘑菇村103号</td>\n",
       "      <td>100088</td>\n",
       "      <td>12345657890</td>\n",
       "      <td>xumo@136.com</td>\n",
       "      <td>1</td>\n",
       "      <td>2018-04-10 07:59:32</td>\n",
       "    </tr>\n",
       "    <tr>\n",
       "      <th>13</th>\n",
       "      <td>16</td>\n",
       "      <td>zhangmo</td>\n",
       "      <td>张墨</td>\n",
       "      <td>202cb962ac59075b964b07152d234b70</td>\n",
       "      <td>1</td>\n",
       "      <td>北京市海定区上地三街08号嘉华大厦B6-203</td>\n",
       "      <td>100086</td>\n",
       "      <td>12345324678</td>\n",
       "      <td>zhangmo@163.com</td>\n",
       "      <td>1</td>\n",
       "      <td>2018-04-10 08:00:21</td>\n",
       "    </tr>\n",
       "    <tr>\n",
       "      <th>14</th>\n",
       "      <td>17</td>\n",
       "      <td>zhangjun</td>\n",
       "      <td>张军</td>\n",
       "      <td>202cb962ac59075b964b07152d234b70</td>\n",
       "      <td>0</td>\n",
       "      <td>北京市宣武区菜市口100号新龙小区3#-2-608</td>\n",
       "      <td>100086</td>\n",
       "      <td>12345657890</td>\n",
       "      <td>zhangjun@163.com</td>\n",
       "      <td>1</td>\n",
       "      <td>2018-04-10 08:01:06</td>\n",
       "    </tr>\n",
       "  </tbody>\n",
       "</table>\n",
       "</div>"
      ],
      "text/plain": [
       "    id   username  name                          password  sex  \\\n",
       "0    1      admin  管理员2  21232f297a57a5a743894a0e4a801fc3    0   \n",
       "1    3   zhangsan    张三  ea48576f30be1669971699c09ad05c94    1   \n",
       "2    4       lisi    李四  202cb962ac59075b964b07152d234b70    0   \n",
       "3    6     wangwu    王五  e10adc3949ba59abbe56e057f20f883e    0   \n",
       "4    7      along   张小龙  202cb962ac59075b964b07152d234b70    1   \n",
       "5    8     caihua    菜花  202cb962ac59075b964b07152d234b70    0   \n",
       "6    9   huangsan    黄三  202cb962ac59075b964b07152d234b70    1   \n",
       "7   10    aidehua   爱德华  202cb962ac59075b964b07152d234b70    1   \n",
       "8   11    wangnan    王楠  202cb962ac59075b964b07152d234b70    1   \n",
       "9   12    zhangle    张乐  202cb962ac59075b964b07152d234b70    0   \n",
       "10  13  wangsheng    王胜  202cb962ac59075b964b07152d234b70    1   \n",
       "11  14    xusheng    徐盛  202cb962ac59075b964b07152d234b70    1   \n",
       "12  15       xumo    许墨  202cb962ac59075b964b07152d234b70    0   \n",
       "13  16    zhangmo    张墨  202cb962ac59075b964b07152d234b70    1   \n",
       "14  17   zhangjun    张军  202cb962ac59075b964b07152d234b70    0   \n",
       "\n",
       "                      address    code          phone              email  \\\n",
       "0               北京市朝阳区大山子007号  100086    13566686868   122794105@qq.com   \n",
       "1               北京市三里河蘑菇村102号   10089    12345676890    zhangsan@11.com   \n",
       "2               北京市三里河蘑菇村103号  100088  6666666666666        lisi@11.com   \n",
       "3               北京市三里河蘑菇村102号  100086    12345676890    zhangsan@11.com   \n",
       "4     北京市海定区上地三街08号嘉华大厦B6-203  100098    12345657890      along@163.com   \n",
       "5   北京市宣武区菜市口100号新龙小区3#-2-608  100036     1234567890     caihua@126.com   \n",
       "6       北京市昌平区回龙观流星花园A6-3-403  100082    13456767867   huansan@sohu.com   \n",
       "7   北京市宣武区菜市口100号新龙小区3#-2-608  100088    12345657890    zhangsan@qq.com   \n",
       "8   北京市宣武区菜市口100号新龙小区3#-2-608  100088    12345657890    wangnan@180.com   \n",
       "9     北京市海定区上地三街08号嘉华大厦B6-203  100086    12345657890    zhangle@126.com   \n",
       "10              北京市三里河蘑菇村102号  100088    33333333333  wangsheng@163.com   \n",
       "11              北京市三里河蘑菇村103号  100088    12345657890    xusheng@122.com   \n",
       "12              北京市三里河蘑菇村103号  100088    12345657890       xumo@136.com   \n",
       "13    北京市海定区上地三街08号嘉华大厦B6-203  100086    12345324678    zhangmo@163.com   \n",
       "14  北京市宣武区菜市口100号新龙小区3#-2-608  100086    12345657890   zhangjun@163.com   \n",
       "\n",
       "    state             addtime  \n",
       "0       0 2018-04-07 21:20:08  \n",
       "1       1 2018-04-08 11:11:18  \n",
       "2       2 2018-04-08 11:12:21  \n",
       "3       1 2018-04-08 12:58:58  \n",
       "4       1 2018-04-10 07:49:45  \n",
       "5       1 2018-04-10 07:51:27  \n",
       "6       1 2018-04-10 07:53:18  \n",
       "7       1 2018-04-10 07:54:42  \n",
       "8       1 2018-04-10 07:55:39  \n",
       "9       1 2018-04-10 07:56:36  \n",
       "10      1 2018-04-10 07:57:27  \n",
       "11      1 2018-04-10 07:58:15  \n",
       "12      1 2018-04-10 07:59:32  \n",
       "13      1 2018-04-10 08:00:21  \n",
       "14      1 2018-04-10 08:01:06  "
      ]
     },
     "execution_count": 29,
     "metadata": {},
     "output_type": "execute_result"
    }
   ],
   "source": [
    "data"
   ]
  },
  {
   "cell_type": "markdown",
   "metadata": {},
   "source": [
    "## mongodb"
   ]
  },
  {
   "cell_type": "code",
   "execution_count": 31,
   "metadata": {},
   "outputs": [],
   "source": [
    "import pymongo"
   ]
  },
  {
   "cell_type": "code",
   "execution_count": 38,
   "metadata": {},
   "outputs": [],
   "source": [
    "client = pymongo.MongoClient('127.0.0.1',27017)"
   ]
  },
  {
   "cell_type": "code",
   "execution_count": 39,
   "metadata": {},
   "outputs": [],
   "source": [
    "db = 'demo'\n",
    "table = 'stu'\n",
    "cursor = client[db][table].find()"
   ]
  },
  {
   "cell_type": "code",
   "execution_count": 40,
   "metadata": {},
   "outputs": [],
   "source": [
    "data = pd.DataFrame(list(cursor))"
   ]
  },
  {
   "cell_type": "code",
   "execution_count": 41,
   "metadata": {},
   "outputs": [
    {
     "data": {
      "text/html": [
       "<div>\n",
       "<style scoped>\n",
       "    .dataframe tbody tr th:only-of-type {\n",
       "        vertical-align: middle;\n",
       "    }\n",
       "\n",
       "    .dataframe tbody tr th {\n",
       "        vertical-align: top;\n",
       "    }\n",
       "\n",
       "    .dataframe thead th {\n",
       "        text-align: right;\n",
       "    }\n",
       "</style>\n",
       "<table border=\"1\" class=\"dataframe\">\n",
       "  <thead>\n",
       "    <tr style=\"text-align: right;\">\n",
       "      <th></th>\n",
       "      <th>_id</th>\n",
       "      <th>age</th>\n",
       "      <th>name</th>\n",
       "      <th>sex</th>\n",
       "    </tr>\n",
       "  </thead>\n",
       "  <tbody>\n",
       "    <tr>\n",
       "      <th>0</th>\n",
       "      <td>5c8dec0bf20fd816dcb001e8</td>\n",
       "      <td>20.0</td>\n",
       "      <td>zhangsan</td>\n",
       "      <td>m</td>\n",
       "    </tr>\n",
       "    <tr>\n",
       "      <th>1</th>\n",
       "      <td>5c8dec20f20fd816dcb001e9</td>\n",
       "      <td>22.0</td>\n",
       "      <td>lisi</td>\n",
       "      <td>w</td>\n",
       "    </tr>\n",
       "    <tr>\n",
       "      <th>2</th>\n",
       "      <td>5c8dec8df20fd816dcb001ea</td>\n",
       "      <td>20.0</td>\n",
       "      <td>wangwu</td>\n",
       "      <td>w</td>\n",
       "    </tr>\n",
       "    <tr>\n",
       "      <th>3</th>\n",
       "      <td>5c8decb9f20fd816dcb001eb</td>\n",
       "      <td>20.0</td>\n",
       "      <td>wangwu</td>\n",
       "      <td>m</td>\n",
       "    </tr>\n",
       "    <tr>\n",
       "      <th>4</th>\n",
       "      <td>5c8decccf20fd816dcb001ec</td>\n",
       "      <td>20.0</td>\n",
       "      <td>wangwu</td>\n",
       "      <td>m</td>\n",
       "    </tr>\n",
       "  </tbody>\n",
       "</table>\n",
       "</div>"
      ],
      "text/plain": [
       "                        _id   age      name sex\n",
       "0  5c8dec0bf20fd816dcb001e8  20.0  zhangsan   m\n",
       "1  5c8dec20f20fd816dcb001e9  22.0      lisi   w\n",
       "2  5c8dec8df20fd816dcb001ea  20.0    wangwu   w\n",
       "3  5c8decb9f20fd816dcb001eb  20.0    wangwu   m\n",
       "4  5c8decccf20fd816dcb001ec  20.0    wangwu   m"
      ]
     },
     "execution_count": 41,
     "metadata": {},
     "output_type": "execute_result"
    }
   ],
   "source": [
    "data"
   ]
  },
  {
   "cell_type": "code",
   "execution_count": null,
   "metadata": {},
   "outputs": [],
   "source": []
  }
 ],
 "metadata": {
  "kernelspec": {
   "display_name": "Python 3",
   "language": "python",
   "name": "python3"
  },
  "language_info": {
   "codemirror_mode": {
    "name": "ipython",
    "version": 3
   },
   "file_extension": ".py",
   "mimetype": "text/x-python",
   "name": "python",
   "nbconvert_exporter": "python",
   "pygments_lexer": "ipython3",
   "version": "3.6.5"
  }
 },
 "nbformat": 4,
 "nbformat_minor": 2
}
